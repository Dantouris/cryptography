{
 "cells": [
  {
   "cell_type": "markdown",
   "metadata": {},
   "source": [
    "# Ceasar and Vigenere Ciphers\n",
    "\n",
    "Here is a short presentation of both ciphers, with examples for both of them. \n",
    "\n",
    "1. Ceasar Cipher\n",
    "2. [Vigenere Cipher](#2---Vigenere-Cipher)\n",
    "\n",
    "All of the functions are in `utils.py` so let's first import them:"
   ]
  },
  {
   "cell_type": "code",
   "execution_count": 5,
   "metadata": {},
   "outputs": [],
   "source": [
    "from utils import *"
   ]
  },
  {
   "cell_type": "markdown",
   "metadata": {},
   "source": [
    "## 1 - Ceasar Cipher\n",
    "\n",
    "This simple cipher applies a transformation to all letters of a message so that it remains unreadable by others (in theory). It is based on a secret key (an integer), which is used to shift all of the letters of the message in the alphabet. For example, if the secret key is 1, we shift all of the letters by 1 (and Z becomes A):\n",
    "\n",
    "| | |\n",
    "|:-:|:-:|\n",
    "| Plaintext Message | ABC....XYZ | Hello World |\n",
    "| Encrypted Message | BCD....YZA | Ifmmp Xpsme |\n",
    "\n",
    "Let us try this with a simple message: `There is no sincerer love than the love of food` (from [Bernard Shaw](https://en.wikipedia.org/wiki/George_Bernard_Shaw)). \n",
    "\n",
    "> The scripts only work on uppercase letters, so I transform the message to pass it in as parameter. I then use `digestResult(original_msg, cipher)` to recover lowercase letters, numbers and punctuation."
   ]
  },
  {
   "cell_type": "code",
   "execution_count": 6,
   "metadata": {},
   "outputs": [
    {
     "name": "stdout",
     "output_type": "stream",
     "text": [
      "Plain text:         There is no sincerer love than the love of food.\n",
      "Encrypted message:  Xlivi mw rs wmrgiviv pszi xler xli pszi sj jssh.\n"
     ]
    }
   ],
   "source": [
    "msg = \"There is no sincerer love than the love of food.\"\n",
    "\n",
    "plaintext = \"\"\n",
    "\n",
    "for char in msg:\n",
    "    if (ord(char) in range(97, 123)) or (ord(char) in range(65, 91)): \n",
    "        plaintext = plaintext + char.upper()\n",
    "\n",
    "print(\"Plain text:        \", msg)\n",
    "ceasar_cipher = ceasar(plaintext, 4)\n",
    "print(\"Encrypted message: \", digestResult(msg, ceasar_cipher))"
   ]
  },
  {
   "cell_type": "markdown",
   "metadata": {},
   "source": [
    "To break this kind of cipher, we can easily go through all of the possible keys (only 26 of them), and see which one returns the *most plausible message*. The script rates a string's plausibility by using the letters' frequencies. We know the frequencies of all letters in the alphabet for the English language. So we can compare them to the observed frequencies of the letters in a given message to see if that message is likely to be written in English. \n",
    "\n",
    "When trying to decrypt a message encrypted using Ceaser cipher, we test all 26 possible keys and choose the one that returns a message with frequencies as close as possible to the known frequencies. \n",
    "\n",
    "> I use in my scripts the frequencies for French. I'll have to add the English ones at some point.."
   ]
  },
  {
   "cell_type": "code",
   "execution_count": 7,
   "metadata": {},
   "outputs": [
    {
     "name": "stdout",
     "output_type": "stream",
     "text": [
      "Encrypted message:  Xlivi mw rs wmrgiviv pszi xler xli pszi sj jssh.\n",
      "Cracked message:    There is no sincerer love than the love of food.\n"
     ]
    }
   ],
   "source": [
    "print(\"Encrypted message: \", digestResult(msg, ceasar_cipher))\n",
    "cracked = crackCeasar(ceasar_cipher)\n",
    "print(\"Cracked message:   \", digestResult(msg, cracked))"
   ]
  },
  {
   "cell_type": "markdown",
   "metadata": {},
   "source": [
    "## 2 - Vigenere Cipher\n",
    "\n",
    "### 2.1 - Encryption\n",
    "\n",
    "We just saw with the Ceasar Cipher that it was too easy to crack an encrypted message. But it would be much harder if the key used to shift a letter could change from one letter to another. That is the point of Vigenere Cipher. \n",
    "\n",
    "We now need an actual key (not just an integer), whose letters will give us the numbers to use when shifting the letters of the message we want to encrypt. Here is an example:\n",
    "\n",
    "| Name | Content |\n",
    "| :--: | :--: |\n",
    "| Plaintext | H | E | L | L | O | W | O | R | L | D |\n",
    "| Key       | T | H | I | S | I | S | A | K | E | Y |\n",
    "| Nbr for key letter | 19| 7 | 8 | 18| 8 | 18| 0 | 10| 4 | 24|\n",
    "| Encrypted message | A | L | T | D | W | O | O | B | P | B |\n",
    "\n",
    "* The first letter of the message (`H`), corresponds to the first letter of the key (`T`) - makes sense...\n",
    "* `T` is the 19th letter in the alphabet (`A` is the 0th..), so we need to shift `H` by 19, which gives us `A`.\n",
    "\n",
    "If the key is shorter than the message, we repeat it as long as needed:\n",
    "\n",
    "| Name | Content |\n",
    "| :--: | :--: |\n",
    "| Plaintext | H | E | L | L | O | W | O | R | L | D | T | H | I | S | I | S | J | B |\n",
    "| Key       | T | H | I | S | I | S | A | K | E | Y | T | H | I | S | I | S | A | K |\n",
    "| Nbr for key letter | 19| 7 | 8 | 18| 8 | 18| 0 | 10| 4 | 24| 19 | 7 | 8 | 18 | 8 | 18 | 0 | 10 |\n",
    "| Encrypted message | A | L | T | D | W | O | O | B | P | B | M | O | Q | K | Q | K | J | L | "
   ]
  },
  {
   "cell_type": "code",
   "execution_count": 8,
   "metadata": {},
   "outputs": [
    {
     "data": {
      "text/plain": [
       "'ALTDWOOBPBMOQKQKJL'"
      ]
     },
     "execution_count": 8,
     "metadata": {},
     "output_type": "execute_result"
    }
   ],
   "source": [
    "vigenere('HELLOWORLDTHISISJB', 'THISISAKEY')"
   ]
  },
  {
   "cell_type": "markdown",
   "metadata": {},
   "source": [
    "Let's test this with a text from the [Computer Science Dept. from the University of Rhode Island](https://www.cs.uri.edu/cryptography/classicalvigenere.htm):\n",
    "\n",
    "> The Vigenere cipher is an example of a polyalphabetic substitution cipher. A polyalphabetic substitution cipher is similar to a monoalphabetic substitution except that the cipher alphabet is changed periodically while enciphering the message. This makes the cipher less vulnerable to cryptanalysis using letter frequencies. Blaise de Vigenere developed what is now called the Vigenere cipher in 1585. He used a table known as the Vigenere square, to encipher messages.\n"
   ]
  },
  {
   "cell_type": "code",
   "execution_count": 9,
   "metadata": {},
   "outputs": [
    {
     "name": "stdout",
     "output_type": "stream",
     "text": [
      "THEVIGENERECIPHERISANEXAMPLEOFAPOLYALPHABETICSUBSTITUTIONCIPHERAPOLYALPHABETICSUBSTITUTIONCIPHERISSIMILARTOAMONOALPHABETICSUBSTITUTIONEXCEPTTHATTHECIPHERALPHABETISCHANGEDPERIODICALLYWHILEENCIPHERINGTHEMESSAGETHISMAKESTHECIPHERLESSVULNERABLETOCRYPTANALYSISUSINGLETTERFREQUENCIESBLAISEDEVIGENEREDEVELOPEDWHATISNOWCALLEDTHEVIGENERECIPHERINHEUSEDATABLEKNOWNASTHEVIGENERESQUARETOENCIPHERMESSAGES\n",
      "\n",
      "FFWZKXIGOVCOGHLGIMLKRCJYETNVSYKTMXWSPRYEUOXGOQMFUKMMEXGALUMRYIKKTMXWSPRYEUOXGOQMFUKMMEXGALUMRYIKSWQUKAPCIXHKQMZMSPRYEUOXGOQMFUKMMEXGALWBEVTMDLYFRZIEZTAOVYXNZEDVXBCGFMLYIFGIKSSBUASPNPAASPCQLUMRYIKSREFFWQGJWTQIRTGKQCBILDLCOGHLGIPXCWTGJFITRFEOXMOPQTVRRTVCQUQMWKEKEOXRQPXVGHYXXGGQQTPCZWXNITUEWRGIIWOZCXMHIFNLTDMQZMOGCCPXNXFQTAKGEIKOGGBFWVKELXEWCPYLEDCIDXSUZYKXJVZBQILQPWWSLEKOXMQLUMRYIKWIQEYYIU\n"
     ]
    }
   ],
   "source": [
    "msg = \"The Vigenere cipher is an example of a polyalphabetic substitution cipher. A polyalphabetic substitution cipher is similar to a monoalphabetic substitution except that the cipher alphabet is changed periodically while enciphering the message. This makes the cipher less vulnerable to cryptanalysis using letter frequencies. Blaise de Vigenere developed what is now called the Vigenere cipher in 1585. He used a table known as the Vigenere square, to encipher messages.\"\n",
    "\n",
    "plaintext = \"\"\n",
    "\n",
    "for char in msg:\n",
    "    if (ord(char) in range(97, 123)) or (ord(char) in range(65, 91)): \n",
    "        plaintext = plaintext + char.upper()\n",
    "\n",
    "print(plaintext+\"\\n\")\n",
    "\n",
    "key = \"MYSECRETKEY\"\n",
    "cipher = vigenere(plaintext, key)\n",
    "\n",
    "print(cipher)\n"
   ]
  },
  {
   "cell_type": "markdown",
   "metadata": {},
   "source": [
    "### 2.2 - Cracking the Vigenere Cipher\n",
    "\n",
    "To crack the Vigenere Cipher, we are also going to use *letter frequencies*. The steps to crack a cipher are as follow:\n",
    "\n",
    "1. Find the length of the key\n",
    "2. Decrypt the cipher using letter frequencies\n",
    "\n",
    "#### Setup\n",
    "\n",
    "$M$ is the message to be encrypted, and $K$ is the key we will use to encrypt it.\n",
    "\n",
    "* $L_M$ is the length of the message, and the letters of $M$ are $(m_i)_{i<L_M}$.\n",
    "* $L_K$ is the length of the key, and the letters of $K$ are $(k_i)_{i<L_K}$.\n",
    "\n",
    "The message to encrypt is usually longer than the key, so we can assume $L_K<L_M$.\n",
    "\n",
    "Let us have $C$ representing `cipher`, made of the letters $(c_i)_{i<L_M}$.\n",
    "\n",
    "Let us write $a\\star b$ the operation by which we shift $a$ by `chr(b)` (mod 26). So we have:\n",
    "\n",
    "$$\\forall i \\in [0, L_M[, c_i = m_i\\star k_{i\\mod L_K}$$\n",
    "\n",
    "### 2.2.1 - Find the length of the key\n",
    "\n",
    "Let's now focus on a frequent letter of $M$. Let's say the $(m_j)_{j\\in J}$ are the occurences of one given frequent letter. So we have:\n",
    "\n",
    "$$J\\subset [0,L_M[$$\n",
    "\n",
    "$$\\forall (j,k)\\in J^2, m_j=m_k$$\n",
    "\n",
    "Let us call $d(a, b)$ the distance between two letters. For example, in `aqwertyb`, $d(a, b) = 7$.\n",
    "\n",
    "Out of all the $(d(m_j, m_{j+1}))_j$, some will be equal to the length of the key $L_K$ (or a multiple). Therefore for these few letters, their corresponding encrypted letters will be the same. If we generalize with tuples of letters (words), we will have **in `cipher`** some words that will be repeated and that will be at a distance of $n\\times L_K$ from each other.\n",
    "\n",
    "> Some **frequent words** (substrings, not necessarily English words) in the original message will be spaced out such that they will be encrypted using **the same set of letters from the key**. In the encrypted message, we will therefore have **repeated sets of letters** spaced out by a **multiple of the length of the key**. \n",
    "\n",
    "The function `repetitions` returns a list of distances between identical substrings, and the number that distance was found in the message. So the distance with the highest number of occurence is probably the length of the key.\n",
    "\n",
    "Let's see here with our `cipher`:"
   ]
  },
  {
   "cell_type": "code",
   "execution_count": 10,
   "metadata": {},
   "outputs": [
    {
     "data": {
      "text/plain": [
       "[(5, 32),\n",
       " (6, 44),\n",
       " (7, 60),\n",
       " (8, 15),\n",
       " (9, 32),\n",
       " (10, 14),\n",
       " (11, 293),\n",
       " (12, 25),\n",
       " (13, 22),\n",
       " (14, 8),\n",
       " (15, 11),\n",
       " (16, 6),\n",
       " (17, 20),\n",
       " (18, 11),\n",
       " (19, 15),\n",
       " (20, 4),\n",
       " (21, 4),\n",
       " (22, 108),\n",
       " (23, 7),\n",
       " (24, 5)]"
      ]
     },
     "execution_count": 10,
     "metadata": {},
     "output_type": "execute_result"
    }
   ],
   "source": [
    "repetitions(cipher)"
   ]
  },
  {
   "cell_type": "markdown",
   "metadata": {},
   "source": [
    "So we can rightly guess that the **length of the key is 11**!\n",
    "\n",
    "### 2.2.2 - Decrypt the cipher using letter frequencies\n",
    "\n",
    "We now know $L_K$. For each letter of the key (still unknown), we can map it to the letters $c_i$ which were encrypted with it. Let's say we add them to a list. So each (unknown) letter of the key has a list of letters that were encrypted with it. \n",
    "\n",
    "Then we can work on each list like it was a simple message encrypted using Ceasar Cipher (with the key corresponding to the number of the letter in the alphabet). So we use letter frequencies (like we did with Ceasar) to find each letter of the key independently. \n",
    "\n",
    "> If we **consider each letter of the key independently** from the others, we can **select the corresponding letters from the encrypted message** that were encrypted using it. So we have a string of encrypted letters, all encrypted with a one-letter key: this is the **Ceasar Cipher**! So we can use *letter frequencies* to recover a set of letters from the original message and one letter from the key!"
   ]
  },
  {
   "cell_type": "code",
   "execution_count": 4,
   "metadata": {},
   "outputs": [
    {
     "name": "stdout",
     "output_type": "stream",
     "text": [
      "MYSECRETKTY\n"
     ]
    }
   ],
   "source": [
    "cracked_msg, cracked_key = crackVigenere(cipher)\n",
    "\n",
    "print(cracked_key)"
   ]
  },
  {
   "cell_type": "markdown",
   "metadata": {},
   "source": [
    "The script returns `MYSECRETKTY` as the secret key that was used to encrypt the message. We can guess by looking at it that the real key must be `MYSECRETKEY`. So let us now decrypt the message with the real key:"
   ]
  },
  {
   "cell_type": "code",
   "execution_count": 5,
   "metadata": {},
   "outputs": [
    {
     "name": "stdout",
     "output_type": "stream",
     "text": [
      "THEVIGENERECIPHERISANEXAMPLEOFAPOLYALPHABETICSUBSTITUTIONCIPHERAPOLYALPHABETICSUBSTITUTIONCIPHERISSIMILARTOAMONOALPHABETICSUBSTITUTIONEXCEPTTHATTHECIPHERALPHABETISCHANGEDPERIODICALLYWHILEENCIPHERINGTHEMESSAGETHISMAKESTHECIPHERLESSVULNERABLETOCRYPTANALYSISUSINGLETTERFREQUENCIESBLAISEDEVIGENEREDEVELOPEDWHATISNOWCALLEDTHEVIGENERECIPHERINHEUSEDATABLEKNOWNASTHEVIGENERESQUARETOENCIPHERMESSAGES\n",
      "\n",
      "The Vigenere cipher is an example of a polyalphabetic substitution cipher. A polyalphabetic substitution cipher is similar to a monoalphabetic substitution except that the cipher alphabet is changed periodically while enciphering the message. This makes the cipher less vulnerable to cryptanalysis using letter frequencies. Blaise de Vigenere developed what is now called the Vigenere cipher in 1585. He used a table known as the Vigenere square, to encipher messages.\n"
     ]
    }
   ],
   "source": [
    "final_cracked = viginv(cipher, \"MYSECRETKEY\")\n",
    "\n",
    "print(final_cracked+\"\\n\")\n",
    "\n",
    "print(digestResult(msg, final_cracked))"
   ]
  },
  {
   "cell_type": "markdown",
   "metadata": {},
   "source": [
    "> We saw that our script did not return the exact key. This can be due to the fact that I am using French frequencies while the message is in English. "
   ]
  },
  {
   "cell_type": "markdown",
   "metadata": {},
   "source": [
    "We can aslo try with an encrypted text from [The Black Chamber](http://www.simonsingh.net/The_Black_Chamber/vigenere_cracking_tool.html):"
   ]
  },
  {
   "cell_type": "code",
   "execution_count": 7,
   "metadata": {},
   "outputs": [
    {
     "name": "stdout",
     "output_type": "stream",
     "text": [
      "VIRTUAL\n",
      "\n",
      "WATCHINGACOASTASITSLIPSBYTHESHIPISLIKETHINKINGABOUTANENIGMATHEREITISBEFOREYOUSMILINGFROWNINGINVITINGGRANDMEANINSIPIDORSAVAGEANDALWAYSMUTEWITHANDAIROFWHISPERINGCOMEANDFINDOUTTHISONEWASALMOSTFEATURELESSASIFSTILLINTHEMAKINGWITHANASPECTOFMONOTONOUSGRIMNESSTHEEDGEOFACOLOSSALJUNGLESODARKGREENASTHEBEALMOSTBLACKFRINGEDWITHWHITESURFRANSTRAIGHTLIKEARULEDLINEFARFARAWAYALONGABLUESEAWHOSEGLITTERWASBLURREDBYACREEPINGMISTTHESUNWASFIERCETHELANDSEEMEDTOGLISTENANDDRIPWITHSTEAUZEREANDTHEREGREYISHWHITISHSPECKSSHOWEDUPCLUSTEREDINSIDETHEWHITESURFWITHAFLAGFLYINGABOVETHEMPERHAPSSETTLEMENTSSOMECENTURIESOLDANDSTILLNOBIGGERTHANPINHEADSONTHEUNTOUCHEDEXPANHHUBWRGYXHORAJAGEHEB\n"
     ]
    }
   ],
   "source": [
    "cracked_msg, cracked_key = crackVigenere(\"RIKVBIYBITHUSEVAZMMLTKASRNHPNPZICSWDSVMBIYFQEZUBZPBRGYNTBURMBECZQKBMBPAWIXSOFNUZECNRAZFPHIYBQEOCTTIOXKUNOHMRGCNDDXZWIRDVDRZYAYYICPUYDHCKXQIECIEWUICJNNACSAZZZGACZHMRGXFTILFNNTSDAFGYWLNICFISEAMRMORPGMJLUSTAAKBFLTIBYXGAVDVXPCTSVVRLJENOWWFINZOWEHOSRMQDGYSDOPVXXGPJNRVILZNAREDUYBTVLIDLMSXKYEYVAKAYBPVTDHMTMGITDZRTIOVWQIECEYBNEDPZWKUNDOZRBAHEGQBXURFGMUECNPAIIYURLRIPTFOYBISEOEDZINAISPBTZMNECRIJUFUCMMUUSANMMVICNRHQJMNHPNCEPUSQDMIVYTSZTRGXSPZUVWNORGQJMYNLILUKCPHDBYLNELPHVKYAYYBYXLERMMPBMHHCQKBMHDKMTDMSSJEVWOPNGCJMYRPYQELCDPOPVPBIEZALKZWTOPRYFARATPBHGLWWMXNHPHXVKBAANAVMNLPHMEMMSZHMTXHTFMQVLILOVVULNIWGVFUCGRZZKAUNADVYXUDDJVKAYUYOWLVBEOZFGTHHSPJNKAYICWITDARZPVU\")\n",
    "\n",
    "print(cracked_key+\"\\n\")\n",
    "print(cracked_msg)"
   ]
  },
  {
   "cell_type": "markdown",
   "metadata": {},
   "source": [
    "Or this one from Simon Singh’s *The Code Book* (actually got the text from a [Quora forum](https://www.quora.com/How-can-I-crack-the-Vigenere-cipher-without-knowing-the-key)):"
   ]
  },
  {
   "cell_type": "code",
   "execution_count": 9,
   "metadata": {},
   "outputs": [
    {
     "name": "stdout",
     "output_type": "stream",
     "text": [
      "SCUBA\n",
      "\n",
      "SOUVENTPOURSAMUSERLESHOMMESDEQUIPAGEPRENNENTDESALBATROSVASTESOISEAUXDESMERSQUISUIVENTINDOLENTSCOMPAGNONSDEVOYAGELENAVIREGLISSANTSURLESGOUFFRESAMERSAPEINELESONTILSDEPOSESSURLESPLANCHESQUECESROISDELAZURMALADROITSETHONTEUXLAISSENTPITEUSEMENTLEURSGRANDESAILESBLANCHESCOMMEDESAVIRONSTRAINERACOTEDEUXCEVOYAGEURAILECOMMEILESTGAUCHEETVEULELUINAGUERESIBEAUQUILESTCOMIQUEETLAIDLUNAGACESONBECAVECUNBRULEGUEULELAUTREMIMEENBOITANTLINFIRMEQUIVOLAITLEPOETEESTSEMBLABLEAUPRINCEDESNUEESQUIHANTELATEMPETEETSERITDELARCHERBAUDELAIREEXILESURLESOLAUMILIEUDESHUEESLEMOTPOURETAGEQUATREESTTRAJANSESAILESDEGEANTLEMPECHENTDEMARCHER\n"
     ]
    }
   ],
   "source": [
    "msg = \"KQOWE FVJPU JUUNU KGLME KJINM WUXFQ MKJBG WRLFN FGHUD WUUMB SVLPS NCMUE KQCTE SWREE KOYSS IWCTU AXYOT APXPL WPNTC GOJBG FQHTD WXIZA YGFFN SXCSE YNCTS SPNTU JNYTG GWZGR WUUNE JUUQE APYME KQHUI DUXFP GUYTS MTFFS HNUOC ZGMRU WEYTR GKMEE DCTVR ECFBD JQCUS WVBPN LGOYL SKMTE FVJJT WWMFM WPNME MTMHR SPXFS SKFFS TNUOC ZGMDO EOYEE KCPJR GPMUR SKHFR SEIUE VGOYC WXIZA YGOSA ANYDO EOYJL WUNHA MEBFE LXYVL WNOJN SIOFR WUCCE SWKVI DGMUC GOCRU WGNMA AFFVN SIUDE KQHCE UCPFC MPVSU DGAVE MNYMA MVLFM AOYFN TQCUA FVFJN XKLNE IWCWO DCCUL WRIFT WGMUS WOVMA TNYBU HTCOC WFYTN MGYTQ MKBBN LGFBT WOJFT WGNTE JKNEE DCLDH WTVBU VGFBI JGYYI DGMVR DGMPL SWGJL AGOEE KJOFE KNYNO LRIVR WVUHE IWUUR WGMUT JCDBN KGMBI DGMEE YGUOT DGGQE UJYOT VGGBR UJYS\"\n",
    "msg = msg.replace(\" \", \"\")\n",
    "\n",
    "cracked_msg, cracked_key = crackVigenere(msg)\n",
    "\n",
    "print(cracked_key+\"\\n\")\n",
    "print(cracked_msg)"
   ]
  },
  {
   "cell_type": "markdown",
   "metadata": {},
   "source": [
    "> Turns out the decrypted message is in French.."
   ]
  },
  {
   "cell_type": "code",
   "execution_count": null,
   "metadata": {},
   "outputs": [],
   "source": []
  }
 ],
 "metadata": {
  "kernelspec": {
   "display_name": "Python 3",
   "language": "python",
   "name": "python3"
  },
  "language_info": {
   "codemirror_mode": {
    "name": "ipython",
    "version": 3
   },
   "file_extension": ".py",
   "mimetype": "text/x-python",
   "name": "python",
   "nbconvert_exporter": "python",
   "pygments_lexer": "ipython3",
   "version": "3.6.6"
  }
 },
 "nbformat": 4,
 "nbformat_minor": 2
}
